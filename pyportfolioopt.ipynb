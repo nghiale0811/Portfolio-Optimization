{
  "nbformat": 4,
  "nbformat_minor": 0,
  "metadata": {
    "colab": {
      "provenance": []
    },
    "kernelspec": {
      "name": "python3",
      "display_name": "Python 3"
    },
    "language_info": {
      "name": "python"
    }
  },
  "cells": [
    {
      "cell_type": "code",
      "source": [
        "!pip install pyportfolioopt"
      ],
      "metadata": {
        "colab": {
          "base_uri": "https://localhost:8080/"
        },
        "id": "AGTk6W7qRyyZ",
        "outputId": "00684f01-ddb0-4b3e-ed29-7aa5e1432099"
      },
      "execution_count": null,
      "outputs": [
        {
          "output_type": "stream",
          "name": "stdout",
          "text": [
            "Looking in indexes: https://pypi.org/simple, https://us-python.pkg.dev/colab-wheels/public/simple/\n",
            "Requirement already satisfied: pyportfolioopt in /usr/local/lib/python3.9/dist-packages (1.5.4)\n",
            "Requirement already satisfied: numpy<2.0.0,>=1.22.4 in /usr/local/lib/python3.9/dist-packages (from pyportfolioopt) (1.22.4)\n",
            "Requirement already satisfied: pandas>=0.19 in /usr/local/lib/python3.9/dist-packages (from pyportfolioopt) (1.4.4)\n",
            "Requirement already satisfied: scipy<2.0,>=1.3 in /usr/local/lib/python3.9/dist-packages (from pyportfolioopt) (1.10.1)\n",
            "Requirement already satisfied: cvxpy<2.0.0,>=1.1.10 in /usr/local/lib/python3.9/dist-packages (from pyportfolioopt) (1.3.0)\n",
            "Requirement already satisfied: setuptools<=64.0.2 in /usr/local/lib/python3.9/dist-packages (from cvxpy<2.0.0,>=1.1.10->pyportfolioopt) (63.4.3)\n",
            "Requirement already satisfied: osqp>=0.4.1 in /usr/local/lib/python3.9/dist-packages (from cvxpy<2.0.0,>=1.1.10->pyportfolioopt) (0.6.2.post0)\n",
            "Requirement already satisfied: ecos>=2 in /usr/local/lib/python3.9/dist-packages (from cvxpy<2.0.0,>=1.1.10->pyportfolioopt) (2.0.12)\n",
            "Requirement already satisfied: scs>=1.1.6 in /usr/local/lib/python3.9/dist-packages (from cvxpy<2.0.0,>=1.1.10->pyportfolioopt) (3.2.2)\n",
            "Requirement already satisfied: pytz>=2020.1 in /usr/local/lib/python3.9/dist-packages (from pandas>=0.19->pyportfolioopt) (2022.7.1)\n",
            "Requirement already satisfied: python-dateutil>=2.8.1 in /usr/local/lib/python3.9/dist-packages (from pandas>=0.19->pyportfolioopt) (2.8.2)\n",
            "Requirement already satisfied: qdldl in /usr/local/lib/python3.9/dist-packages (from osqp>=0.4.1->cvxpy<2.0.0,>=1.1.10->pyportfolioopt) (0.1.5.post3)\n",
            "Requirement already satisfied: six>=1.5 in /usr/local/lib/python3.9/dist-packages (from python-dateutil>=2.8.1->pandas>=0.19->pyportfolioopt) (1.15.0)\n"
          ]
        }
      ]
    },
    {
      "cell_type": "code",
      "execution_count": null,
      "metadata": {
        "id": "nrnxsdIlRsuJ"
      },
      "outputs": [],
      "source": [
        "import pandas as pd\n",
        "from pypfopt.efficient_frontier import EfficientFrontier\n",
        "from pypfopt import risk_models\n",
        "from pypfopt import expected_returns, plotting\n",
        "import numpy as np\n",
        "import matplotlib.pyplot as plt\n",
        "import pypfopt"
      ]
    },
    {
      "cell_type": "code",
      "source": [
        "url = \"https://raw.githubusercontent.com/robertmartin8/PyPortfolioOpt/master/cookbook/data/stock_prices.csv\"\n",
        "df = pd.read_csv(url, parse_dates=True, index_col=\"date\")\n",
        "df.head(5)"
      ],
      "metadata": {
        "colab": {
          "base_uri": "https://localhost:8080/",
          "height": 238
        },
        "id": "MFUrcz7vSVMV",
        "outputId": "bc4820c0-ad02-46c8-8183-0bab42369f7a"
      },
      "execution_count": null,
      "outputs": [
        {
          "output_type": "execute_result",
          "data": {
            "text/plain": [
              "            GOOG      AAPL  FB  BABA  AMZN        GE     AMD       WMT  \\\n",
              "date                                                                     \n",
              "1989-12-29   NaN  0.117203 NaN   NaN   NaN  0.352438  3.9375  3.486070   \n",
              "1990-01-02   NaN  0.123853 NaN   NaN   NaN  0.364733  4.1250  3.660858   \n",
              "1990-01-03   NaN  0.124684 NaN   NaN   NaN  0.364050  4.0000  3.660858   \n",
              "1990-01-04   NaN  0.125100 NaN   NaN   NaN  0.362001  3.9375  3.641439   \n",
              "1990-01-05   NaN  0.125516 NaN   NaN   NaN  0.358586  3.8125  3.602595   \n",
              "\n",
              "                 BAC  GM         T  UAA  SHLD       XOM  RRC       BBY  MA  \\\n",
              "date                                                                         \n",
              "1989-12-29  1.752478 NaN  2.365775  NaN   NaN  1.766756  NaN  0.166287 NaN   \n",
              "1990-01-02  1.766686 NaN  2.398184  NaN   NaN  1.766756  NaN  0.173216 NaN   \n",
              "1990-01-03  1.780897 NaN  2.356516  NaN   NaN  1.749088  NaN  0.194001 NaN   \n",
              "1990-01-04  1.743005 NaN  2.403821  NaN   NaN  1.731422  NaN  0.190537 NaN   \n",
              "1990-01-05  1.705114 NaN  2.287973  NaN   NaN  1.722587  NaN  0.190537 NaN   \n",
              "\n",
              "                 PFE       JPM  SBUX  \n",
              "date                                  \n",
              "1989-12-29  0.110818  1.827968   NaN  \n",
              "1990-01-02  0.113209  1.835617   NaN  \n",
              "1990-01-03  0.113608  1.896803   NaN  \n",
              "1990-01-04  0.115402  1.904452   NaN  \n",
              "1990-01-05  0.114405  1.912100   NaN  "
            ],
            "text/html": [
              "\n",
              "  <div id=\"df-ff3b992c-0452-4cf5-ae08-35acb53af557\">\n",
              "    <div class=\"colab-df-container\">\n",
              "      <div>\n",
              "<style scoped>\n",
              "    .dataframe tbody tr th:only-of-type {\n",
              "        vertical-align: middle;\n",
              "    }\n",
              "\n",
              "    .dataframe tbody tr th {\n",
              "        vertical-align: top;\n",
              "    }\n",
              "\n",
              "    .dataframe thead th {\n",
              "        text-align: right;\n",
              "    }\n",
              "</style>\n",
              "<table border=\"1\" class=\"dataframe\">\n",
              "  <thead>\n",
              "    <tr style=\"text-align: right;\">\n",
              "      <th></th>\n",
              "      <th>GOOG</th>\n",
              "      <th>AAPL</th>\n",
              "      <th>FB</th>\n",
              "      <th>BABA</th>\n",
              "      <th>AMZN</th>\n",
              "      <th>GE</th>\n",
              "      <th>AMD</th>\n",
              "      <th>WMT</th>\n",
              "      <th>BAC</th>\n",
              "      <th>GM</th>\n",
              "      <th>T</th>\n",
              "      <th>UAA</th>\n",
              "      <th>SHLD</th>\n",
              "      <th>XOM</th>\n",
              "      <th>RRC</th>\n",
              "      <th>BBY</th>\n",
              "      <th>MA</th>\n",
              "      <th>PFE</th>\n",
              "      <th>JPM</th>\n",
              "      <th>SBUX</th>\n",
              "    </tr>\n",
              "    <tr>\n",
              "      <th>date</th>\n",
              "      <th></th>\n",
              "      <th></th>\n",
              "      <th></th>\n",
              "      <th></th>\n",
              "      <th></th>\n",
              "      <th></th>\n",
              "      <th></th>\n",
              "      <th></th>\n",
              "      <th></th>\n",
              "      <th></th>\n",
              "      <th></th>\n",
              "      <th></th>\n",
              "      <th></th>\n",
              "      <th></th>\n",
              "      <th></th>\n",
              "      <th></th>\n",
              "      <th></th>\n",
              "      <th></th>\n",
              "      <th></th>\n",
              "      <th></th>\n",
              "    </tr>\n",
              "  </thead>\n",
              "  <tbody>\n",
              "    <tr>\n",
              "      <th>1989-12-29</th>\n",
              "      <td>NaN</td>\n",
              "      <td>0.117203</td>\n",
              "      <td>NaN</td>\n",
              "      <td>NaN</td>\n",
              "      <td>NaN</td>\n",
              "      <td>0.352438</td>\n",
              "      <td>3.9375</td>\n",
              "      <td>3.486070</td>\n",
              "      <td>1.752478</td>\n",
              "      <td>NaN</td>\n",
              "      <td>2.365775</td>\n",
              "      <td>NaN</td>\n",
              "      <td>NaN</td>\n",
              "      <td>1.766756</td>\n",
              "      <td>NaN</td>\n",
              "      <td>0.166287</td>\n",
              "      <td>NaN</td>\n",
              "      <td>0.110818</td>\n",
              "      <td>1.827968</td>\n",
              "      <td>NaN</td>\n",
              "    </tr>\n",
              "    <tr>\n",
              "      <th>1990-01-02</th>\n",
              "      <td>NaN</td>\n",
              "      <td>0.123853</td>\n",
              "      <td>NaN</td>\n",
              "      <td>NaN</td>\n",
              "      <td>NaN</td>\n",
              "      <td>0.364733</td>\n",
              "      <td>4.1250</td>\n",
              "      <td>3.660858</td>\n",
              "      <td>1.766686</td>\n",
              "      <td>NaN</td>\n",
              "      <td>2.398184</td>\n",
              "      <td>NaN</td>\n",
              "      <td>NaN</td>\n",
              "      <td>1.766756</td>\n",
              "      <td>NaN</td>\n",
              "      <td>0.173216</td>\n",
              "      <td>NaN</td>\n",
              "      <td>0.113209</td>\n",
              "      <td>1.835617</td>\n",
              "      <td>NaN</td>\n",
              "    </tr>\n",
              "    <tr>\n",
              "      <th>1990-01-03</th>\n",
              "      <td>NaN</td>\n",
              "      <td>0.124684</td>\n",
              "      <td>NaN</td>\n",
              "      <td>NaN</td>\n",
              "      <td>NaN</td>\n",
              "      <td>0.364050</td>\n",
              "      <td>4.0000</td>\n",
              "      <td>3.660858</td>\n",
              "      <td>1.780897</td>\n",
              "      <td>NaN</td>\n",
              "      <td>2.356516</td>\n",
              "      <td>NaN</td>\n",
              "      <td>NaN</td>\n",
              "      <td>1.749088</td>\n",
              "      <td>NaN</td>\n",
              "      <td>0.194001</td>\n",
              "      <td>NaN</td>\n",
              "      <td>0.113608</td>\n",
              "      <td>1.896803</td>\n",
              "      <td>NaN</td>\n",
              "    </tr>\n",
              "    <tr>\n",
              "      <th>1990-01-04</th>\n",
              "      <td>NaN</td>\n",
              "      <td>0.125100</td>\n",
              "      <td>NaN</td>\n",
              "      <td>NaN</td>\n",
              "      <td>NaN</td>\n",
              "      <td>0.362001</td>\n",
              "      <td>3.9375</td>\n",
              "      <td>3.641439</td>\n",
              "      <td>1.743005</td>\n",
              "      <td>NaN</td>\n",
              "      <td>2.403821</td>\n",
              "      <td>NaN</td>\n",
              "      <td>NaN</td>\n",
              "      <td>1.731422</td>\n",
              "      <td>NaN</td>\n",
              "      <td>0.190537</td>\n",
              "      <td>NaN</td>\n",
              "      <td>0.115402</td>\n",
              "      <td>1.904452</td>\n",
              "      <td>NaN</td>\n",
              "    </tr>\n",
              "    <tr>\n",
              "      <th>1990-01-05</th>\n",
              "      <td>NaN</td>\n",
              "      <td>0.125516</td>\n",
              "      <td>NaN</td>\n",
              "      <td>NaN</td>\n",
              "      <td>NaN</td>\n",
              "      <td>0.358586</td>\n",
              "      <td>3.8125</td>\n",
              "      <td>3.602595</td>\n",
              "      <td>1.705114</td>\n",
              "      <td>NaN</td>\n",
              "      <td>2.287973</td>\n",
              "      <td>NaN</td>\n",
              "      <td>NaN</td>\n",
              "      <td>1.722587</td>\n",
              "      <td>NaN</td>\n",
              "      <td>0.190537</td>\n",
              "      <td>NaN</td>\n",
              "      <td>0.114405</td>\n",
              "      <td>1.912100</td>\n",
              "      <td>NaN</td>\n",
              "    </tr>\n",
              "  </tbody>\n",
              "</table>\n",
              "</div>\n",
              "      <button class=\"colab-df-convert\" onclick=\"convertToInteractive('df-ff3b992c-0452-4cf5-ae08-35acb53af557')\"\n",
              "              title=\"Convert this dataframe to an interactive table.\"\n",
              "              style=\"display:none;\">\n",
              "        \n",
              "  <svg xmlns=\"http://www.w3.org/2000/svg\" height=\"24px\"viewBox=\"0 0 24 24\"\n",
              "       width=\"24px\">\n",
              "    <path d=\"M0 0h24v24H0V0z\" fill=\"none\"/>\n",
              "    <path d=\"M18.56 5.44l.94 2.06.94-2.06 2.06-.94-2.06-.94-.94-2.06-.94 2.06-2.06.94zm-11 1L8.5 8.5l.94-2.06 2.06-.94-2.06-.94L8.5 2.5l-.94 2.06-2.06.94zm10 10l.94 2.06.94-2.06 2.06-.94-2.06-.94-.94-2.06-.94 2.06-2.06.94z\"/><path d=\"M17.41 7.96l-1.37-1.37c-.4-.4-.92-.59-1.43-.59-.52 0-1.04.2-1.43.59L10.3 9.45l-7.72 7.72c-.78.78-.78 2.05 0 2.83L4 21.41c.39.39.9.59 1.41.59.51 0 1.02-.2 1.41-.59l7.78-7.78 2.81-2.81c.8-.78.8-2.07 0-2.86zM5.41 20L4 18.59l7.72-7.72 1.47 1.35L5.41 20z\"/>\n",
              "  </svg>\n",
              "      </button>\n",
              "      \n",
              "  <style>\n",
              "    .colab-df-container {\n",
              "      display:flex;\n",
              "      flex-wrap:wrap;\n",
              "      gap: 12px;\n",
              "    }\n",
              "\n",
              "    .colab-df-convert {\n",
              "      background-color: #E8F0FE;\n",
              "      border: none;\n",
              "      border-radius: 50%;\n",
              "      cursor: pointer;\n",
              "      display: none;\n",
              "      fill: #1967D2;\n",
              "      height: 32px;\n",
              "      padding: 0 0 0 0;\n",
              "      width: 32px;\n",
              "    }\n",
              "\n",
              "    .colab-df-convert:hover {\n",
              "      background-color: #E2EBFA;\n",
              "      box-shadow: 0px 1px 2px rgba(60, 64, 67, 0.3), 0px 1px 3px 1px rgba(60, 64, 67, 0.15);\n",
              "      fill: #174EA6;\n",
              "    }\n",
              "\n",
              "    [theme=dark] .colab-df-convert {\n",
              "      background-color: #3B4455;\n",
              "      fill: #D2E3FC;\n",
              "    }\n",
              "\n",
              "    [theme=dark] .colab-df-convert:hover {\n",
              "      background-color: #434B5C;\n",
              "      box-shadow: 0px 1px 3px 1px rgba(0, 0, 0, 0.15);\n",
              "      filter: drop-shadow(0px 1px 2px rgba(0, 0, 0, 0.3));\n",
              "      fill: #FFFFFF;\n",
              "    }\n",
              "  </style>\n",
              "\n",
              "      <script>\n",
              "        const buttonEl =\n",
              "          document.querySelector('#df-ff3b992c-0452-4cf5-ae08-35acb53af557 button.colab-df-convert');\n",
              "        buttonEl.style.display =\n",
              "          google.colab.kernel.accessAllowed ? 'block' : 'none';\n",
              "\n",
              "        async function convertToInteractive(key) {\n",
              "          const element = document.querySelector('#df-ff3b992c-0452-4cf5-ae08-35acb53af557');\n",
              "          const dataTable =\n",
              "            await google.colab.kernel.invokeFunction('convertToInteractive',\n",
              "                                                     [key], {});\n",
              "          if (!dataTable) return;\n",
              "\n",
              "          const docLinkHtml = 'Like what you see? Visit the ' +\n",
              "            '<a target=\"_blank\" href=https://colab.research.google.com/notebooks/data_table.ipynb>data table notebook</a>'\n",
              "            + ' to learn more about interactive tables.';\n",
              "          element.innerHTML = '';\n",
              "          dataTable['output_type'] = 'display_data';\n",
              "          await google.colab.output.renderOutput(dataTable, element);\n",
              "          const docLink = document.createElement('div');\n",
              "          docLink.innerHTML = docLinkHtml;\n",
              "          element.appendChild(docLink);\n",
              "        }\n",
              "      </script>\n",
              "    </div>\n",
              "  </div>\n",
              "  "
            ]
          },
          "metadata": {},
          "execution_count": 14
        }
      ]
    },
    {
      "cell_type": "markdown",
      "source": [
        "# Calculate basic portfolio performance"
      ],
      "metadata": {
        "id": "tBk-EtMyTwGT"
      }
    },
    {
      "cell_type": "code",
      "source": [
        "# Calculate expected returns and sample covariance\n",
        "mu = expected_returns.mean_historical_return(df)\n",
        "S = risk_models.sample_cov(df)"
      ],
      "metadata": {
        "id": "HA3kZxD8Sqq7"
      },
      "execution_count": null,
      "outputs": []
    },
    {
      "cell_type": "code",
      "source": [
        "# Optimize for maximal Sharpe ratio\n",
        "ef = EfficientFrontier(mu, S)\n",
        "weights = ef.max_sharpe()\n",
        "ef.portfolio_performance(verbose=True)"
      ],
      "metadata": {
        "colab": {
          "base_uri": "https://localhost:8080/"
        },
        "id": "JISPvx8sS3nK",
        "outputId": "2d0ec35e-cba3-4b04-f91e-8239d242a5a1"
      },
      "execution_count": null,
      "outputs": [
        {
          "output_type": "stream",
          "name": "stdout",
          "text": [
            "Expected annual return: 21.2%\n",
            "Annual volatility: 9.8%\n",
            "Sharpe Ratio: 1.96\n"
          ]
        },
        {
          "output_type": "execute_result",
          "data": {
            "text/plain": [
              "(0.2122603544449754, 0.09809782819318544, 1.9598839035085913)"
            ]
          },
          "metadata": {},
          "execution_count": 30
        }
      ]
    },
    {
      "cell_type": "markdown",
      "source": [
        "# Plotting - Unconstrained"
      ],
      "metadata": {
        "id": "yp2OXg1jVzZf"
      }
    },
    {
      "cell_type": "code",
      "source": [
        "from pypfopt import CLA, plotting\n",
        "\n",
        "cla = CLA(mu, S)\n",
        "cla.max_sharpe()\n",
        "cla.portfolio_performance(verbose=True);"
      ],
      "metadata": {
        "colab": {
          "base_uri": "https://localhost:8080/"
        },
        "id": "mXilb9b2V2bf",
        "outputId": "bc0b1a44-0cbd-4ebb-fb03-0ce55fa6e578"
      },
      "execution_count": null,
      "outputs": [
        {
          "output_type": "stream",
          "name": "stdout",
          "text": [
            "Expected annual return: 29.9%\n",
            "Annual volatility: 21.8%\n",
            "Sharpe Ratio: 1.28\n"
          ]
        }
      ]
    },
    {
      "cell_type": "code",
      "source": [
        "ax = plotting.plot_efficient_frontier(cla, showfig=False)"
      ],
      "metadata": {
        "colab": {
          "base_uri": "https://localhost:8080/",
          "height": 297
        },
        "id": "XtdkgojiV5tH",
        "outputId": "1a87be4e-eeb1-4ad8-a612-670fc63c05ec"
      },
      "execution_count": null,
      "outputs": [
        {
          "output_type": "display_data",
          "data": {
            "text/plain": [
              "<Figure size 432x288 with 1 Axes>"
            ],
            "image/png": "[encoded data removed]"
          },
          "metadata": {
            "needs_background": "light"
          }
        }
      ]
    },
    {
      "cell_type": "markdown",
      "source": [
        "# Plotting - Constrained"
      ],
      "metadata": {
        "id": "d4R_4A-IWBIg"
      }
    },
    {
      "cell_type": "code",
      "source": [
        "import cvxpy as cp\n",
        "\n",
        "mu = expected_returns.capm_return(df)\n",
        "S = risk_models.CovarianceShrinkage(df).ledoit_wolf()\n",
        "\n",
        "ef = EfficientFrontier(mu, S,)\n",
        "big_tech_indices = [t in {\"MSFT\", \"AMZN\", \"AAPL\"} for t in df.columns]\n",
        "ef.add_constraint(lambda w: cp.sum(w[big_tech_indices]) <= 0.3)"
      ],
      "metadata": {
        "id": "OqWB5c-RWAVf"
      },
      "execution_count": null,
      "outputs": []
    },
    {
      "cell_type": "code",
      "source": [
        "ax = plotting.plot_efficient_frontier(ef, ef_param=\"risk\", \n",
        "                                      ef_param_range=np.linspace(0.12, 0.4, 50), \n",
        "                                      showfig=False);"
      ],
      "metadata": {
        "colab": {
          "base_uri": "https://localhost:8080/",
          "height": 297
        },
        "id": "pwjWIsdxWUp-",
        "outputId": "53ca7f3a-cb46-492a-8591-ca0cfe60bef8"
      },
      "execution_count": null,
      "outputs": [
        {
          "output_type": "display_data",
          "data": {
            "text/plain": [
              "<Figure size 432x288 with 1 Axes>"
            ],
            "image/png": "[encoded data removed]"
          },
          "metadata": {
            "needs_background": "light"
          }
        }
      ]
    },
    {
      "cell_type": "markdown",
      "source": [
        "# Complex plots"
      ],
      "metadata": {
        "id": "Kz8rjlIvVqJI"
      }
    },
    {
      "cell_type": "markdown",
      "source": [
        "In this example, we will plot the efficient frontier as well as 10,000 simulated portfolios.\n",
        "\n",
        "To generate the simulated portfolios, we will sample random weights from the Dirichlet distribution (these are already normalized):"
      ],
      "metadata": {
        "id": "X_NYmGfCWhq-"
      }
    },
    {
      "cell_type": "code",
      "source": [
        "n_samples = 10000\n",
        "w = np.random.dirichlet(np.ones(len(mu)), n_samples)\n",
        "rets = w.dot(mu)\n",
        "stds = np.sqrt((w.T * (S @ w.T)).sum(axis=0))\n",
        "sharpes = rets / stds\n",
        "\n",
        "print(\"Sample portfolio returns:\", rets)\n",
        "print(\"Sample portfolio volatilities:\", stds)"
      ],
      "metadata": {
        "colab": {
          "base_uri": "https://localhost:8080/"
        },
        "id": "lmowYW52Va0T",
        "outputId": "428447ed-c075-4165-b793-ccf85627513c"
      },
      "execution_count": null,
      "outputs": [
        {
          "output_type": "stream",
          "name": "stdout",
          "text": [
            "Sample portfolio returns: [0.16357806 0.15223903 0.18779785 ... 0.1851787  0.18268064 0.16194018]\n",
            "Sample portfolio volatilities: 0       0.234679\n",
            "1       0.214214\n",
            "2       0.219650\n",
            "3       0.232805\n",
            "4       0.203073\n",
            "          ...   \n",
            "9995    0.210308\n",
            "9996    0.210768\n",
            "9997    0.213836\n",
            "9998    0.235507\n",
            "9999    0.226741\n",
            "Length: 10000, dtype: float64\n"
          ]
        }
      ]
    },
    {
      "cell_type": "code",
      "source": [
        "\n",
        "# Plot efficient frontier with Monte Carlo sim\n",
        "ef = EfficientFrontier(mu, S)\n",
        "\n",
        "fig, ax = plt.subplots()\n",
        "plotting.plot_efficient_frontier(ef, ax=ax, show_assets=False)\n",
        "\n",
        "# Find and plot the tangency portfolio\n",
        "ef2 = EfficientFrontier(mu, S)\n",
        "ef2.max_sharpe()\n",
        "ret_tangent, std_tangent, _ = ef2.portfolio_performance()\n",
        "\n",
        "# Plot random portfolios\n",
        "ax.scatter(stds, rets, marker=\".\", c=sharpes, cmap=\"viridis_r\")\n",
        "\n",
        "# Format\n",
        "ax.set_title(\"Efficient Frontier with random portfolios\")\n",
        "ax.legend()\n",
        "plt.tight_layout()\n",
        "plt.show()\n"
      ],
      "metadata": {
        "colab": {
          "base_uri": "https://localhost:8080/",
          "height": 297
        },
        "id": "9NOhZHvvW8vU",
        "outputId": "32141c0b-3f38-4368-87bf-6db21bf2a9cb"
      },
      "execution_count": null,
      "outputs": [
        {
          "output_type": "display_data",
          "data": {
            "text/plain": [
              "<Figure size 432x288 with 1 Axes>"
            ],
            "image/png": "[encoded data removed]"
          },
          "metadata": {
            "needs_background": "light"
          }
        }
      ]
    },
    {
      "cell_type": "markdown",
      "source": [
        "# Risk models"
      ],
      "metadata": {
        "id": "b89eahwcT3NT"
      }
    },
    {
      "cell_type": "code",
      "source": [
        "past_df, future_df = df.iloc[:-250], df.iloc[-250:]\n",
        "future_cov = risk_models.sample_cov(future_df)\n",
        "\n",
        "sample_cov = risk_models.sample_cov(past_df)\n",
        "plotting.plot_covariance(sample_cov, plot_correlation=True)\n",
        "plotting.plot_covariance(future_cov, plot_correlation=True)\n",
        "plt.show()"
      ],
      "metadata": {
        "colab": {
          "base_uri": "https://localhost:8080/",
          "height": 577
        },
        "id": "npRLxpowTOAr",
        "outputId": "8e7d3484-0882-427e-bc0f-4b557c08d563"
      },
      "execution_count": null,
      "outputs": [
        {
          "output_type": "display_data",
          "data": {
            "text/plain": [
              "<Figure size 432x288 with 2 Axes>"
            ],
            "image/png": "[encoded data removed]"
          },
          "metadata": {
            "needs_background": "light"
          }
        },
        {
          "output_type": "display_data",
          "data": {
            "text/plain": [
              "<Figure size 432x288 with 2 Axes>"
            ],
            "image/png": "[encoded data removed]"
          },
          "metadata": {
            "needs_background": "light"
          }
        }
      ]
    },
    {
      "cell_type": "code",
      "source": [
        "future_variance = np.diag(future_cov)\n",
        "mean_abs_errors = []\n",
        "\n",
        "risk_methods = [\n",
        "    \"sample_cov\",\n",
        "    \"semicovariance\",\n",
        "    \"exp_cov\",\n",
        "    \"ledoit_wolf\",\n",
        "    \"ledoit_wolf_constant_variance\",\n",
        "    \"ledoit_wolf_single_factor\",\n",
        "    \"ledoit_wolf_constant_correlation\",\n",
        "    \"oracle_approximating\",\n",
        "]\n",
        "\n",
        "for method in risk_methods:\n",
        "    S = risk_models.risk_matrix(df, method=method)\n",
        "    variance = np.diag(S)\n",
        "    mean_abs_errors.append(np.sum(np.abs(variance - future_variance)) / len(variance))\n",
        "    \n",
        "xrange = range(len(mean_abs_errors))\n",
        "plt.barh(xrange, mean_abs_errors)\n",
        "plt.yticks(xrange, risk_methods)\n",
        "plt.show()"
      ],
      "metadata": {
        "colab": {
          "base_uri": "https://localhost:8080/",
          "height": 265
        },
        "id": "P59kZhqlTo-r",
        "outputId": "1b9c8e87-0ea9-4376-81a9-7ae85be2efd4"
      },
      "execution_count": null,
      "outputs": [
        {
          "output_type": "display_data",
          "data": {
            "text/plain": [
              "<Figure size 432x288 with 1 Axes>"
            ],
            "image/png": "[encoded data removed]"
          },
          "metadata": {
            "needs_background": "light"
          }
        }
      ]
    },
    {
      "cell_type": "code",
      "source": [
        "\n",
        "exp_cov = risk_models.exp_cov(past_df)\n",
        "plotting.plot_covariance(exp_cov, plot_correlation=True)\n",
        "plotting.plot_covariance(future_cov, plot_correlation=True)\n",
        "plt.show()"
      ],
      "metadata": {
        "colab": {
          "base_uri": "https://localhost:8080/",
          "height": 577
        },
        "id": "gX2YGSPuT8vD",
        "outputId": "bfd5b642-f4df-4693-b5f2-870cb5c07964"
      },
      "execution_count": null,
      "outputs": [
        {
          "output_type": "display_data",
          "data": {
            "text/plain": [
              "<Figure size 432x288 with 2 Axes>"
            ],
            "image/png": "[encoded data removed]"
          },
          "metadata": {
            "needs_background": "light"
          }
        },
        {
          "output_type": "display_data",
          "data": {
            "text/plain": [
              "<Figure size 432x288 with 2 Axes>"
            ],
            "image/png": "[encoded data removed]"
          },
          "metadata": {
            "needs_background": "light"
          }
        }
      ]
    },
    {
      "cell_type": "markdown",
      "source": [
        "# Returns model"
      ],
      "metadata": {
        "id": "LWZuK231UI_C"
      }
    },
    {
      "cell_type": "code",
      "source": [
        "future_rets = expected_returns.mean_historical_return(future_df)\n",
        "mean_abs_errors = []\n",
        "return_methods = [\n",
        "    \"mean_historical_return\",\n",
        "    \"ema_historical_return\",\n",
        "    \"capm_return\",\n",
        "    ]\n",
        "\n",
        "for method in return_methods:\n",
        "    mu = expected_returns.return_model(past_df, method=method)\n",
        "    mean_abs_errors.append(np.sum(np.abs(mu - future_rets)) / len(mu))\n",
        "    \n",
        "xrange = range(len(mean_abs_errors))\n",
        "plt.barh(xrange, mean_abs_errors)\n",
        "plt.yticks(xrange, return_methods)\n",
        "plt.show()"
      ],
      "metadata": {
        "colab": {
          "base_uri": "https://localhost:8080/",
          "height": 265
        },
        "id": "Mfipo1ryUK6K",
        "outputId": "53b84988-85d2-4abd-b297-b3643414bc35"
      },
      "execution_count": null,
      "outputs": [
        {
          "output_type": "display_data",
          "data": {
            "text/plain": [
              "<Figure size 432x288 with 1 Axes>"
            ],
            "image/png": "[encoded data removed]"
          },
          "metadata": {
            "needs_background": "light"
          }
        }
      ]
    },
    {
      "cell_type": "code",
      "source": [
        "print(mean_abs_errors)"
      ],
      "metadata": {
        "colab": {
          "base_uri": "https://localhost:8080/"
        },
        "id": "n0wD-K9NURVj",
        "outputId": "fb5cb12a-91d6-4f3b-8196-ccd24ed38b37"
      },
      "execution_count": null,
      "outputs": [
        {
          "output_type": "stream",
          "name": "stdout",
          "text": [
            "[0.2732675295106071, 0.29740354389638524, 0.28701847303235856]\n"
          ]
        }
      ]
    },
    {
      "cell_type": "code",
      "source": [
        "fig, axs = plt.subplots( 1, len(return_methods),sharey=True, figsize=(15,10))\n",
        "\n",
        "for i, method in enumerate(return_methods):\n",
        "    mu = expected_returns.return_model(past_df, method=method)\n",
        "    axs[i].set_title(method)\n",
        "    mu.plot.barh(ax=axs[i])"
      ],
      "metadata": {
        "colab": {
          "base_uri": "https://localhost:8080/",
          "height": 607
        },
        "id": "1HK53WmHUVzi",
        "outputId": "40585c3e-8898-49c1-b489-fc575a8a98be"
      },
      "execution_count": null,
      "outputs": [
        {
          "output_type": "display_data",
          "data": {
            "text/plain": [
              "<Figure size 1080x720 with 3 Axes>"
            ],
            "image/png": "[encoded data removed]"
          },
          "metadata": {
            "needs_background": "light"
          }
        }
      ]
    },
    {
      "cell_type": "markdown",
      "source": [
        "# Advanced mean variance optimization"
      ],
      "metadata": {
        "id": "EXnsL-mYXdxr"
      }
    },
    {
      "cell_type": "code",
      "source": [
        "import cvxpy as cp\n",
        "\n",
        "# Note: functions are minimised. If you want to maximise an objective, stick a minus sign in it.\n",
        "def logarithmic_barrier_objective(w, cov_matrix, k=0.1):\n",
        "    log_sum = cp.sum(cp.log(w))\n",
        "    var = cp.quad_form(w, cov_matrix)\n",
        "    return var - k * log_sum"
      ],
      "metadata": {
        "id": "pCZm3PTjYKka"
      },
      "execution_count": null,
      "outputs": []
    },
    {
      "cell_type": "code",
      "source": [
        "ef = EfficientFrontier(mu, S, weight_bounds=(0.01, 0.2))\n",
        "ef.convex_objective(logarithmic_barrier_objective, cov_matrix=S, k=0.001)\n",
        "weights = ef.clean_weights()\n",
        "weights"
      ],
      "metadata": {
        "colab": {
          "base_uri": "https://localhost:8080/"
        },
        "id": "V5e38c19YNN6",
        "outputId": "8024b2ab-ba07-4adc-83d5-e21c26859158"
      },
      "execution_count": null,
      "outputs": [
        {
          "output_type": "execute_result",
          "data": {
            "text/plain": [
              "OrderedDict([('GOOG', 0.05106),\n",
              "             ('AAPL', 0.02517),\n",
              "             ('FB', 0.12902),\n",
              "             ('BABA', 0.2),\n",
              "             ('AMZN', 0.02172),\n",
              "             ('GE', 0.02946),\n",
              "             ('AMD', 0.0175),\n",
              "             ('WMT', 0.04568),\n",
              "             ('BAC', 0.01934),\n",
              "             ('GM', 0.11979),\n",
              "             ('T', 0.04669),\n",
              "             ('UAA', 0.03281),\n",
              "             ('SHLD', 0.03105),\n",
              "             ('XOM', 0.04478),\n",
              "             ('RRC', 0.02641),\n",
              "             ('BBY', 0.02255),\n",
              "             ('MA', 0.04644),\n",
              "             ('PFE', 0.04109),\n",
              "             ('JPM', 0.02101),\n",
              "             ('SBUX', 0.02843)])"
            ]
          },
          "metadata": {},
          "execution_count": 56
        }
      ]
    },
    {
      "cell_type": "code",
      "source": [
        "ef.portfolio_performance(verbose=True)"
      ],
      "metadata": {
        "colab": {
          "base_uri": "https://localhost:8080/"
        },
        "id": "G_iuYxcHYQw6",
        "outputId": "377cb17b-5999-43b4-a792-756a48627879"
      },
      "execution_count": null,
      "outputs": [
        {
          "output_type": "stream",
          "name": "stdout",
          "text": [
            "Expected annual return: 20.8%\n",
            "Annual volatility: 11.4%\n",
            "Sharpe Ratio: 1.64\n"
          ]
        }
      ]
    },
    {
      "cell_type": "code",
      "source": [
        "# Another example of deviation risk parity\n",
        "def deviation_risk_parity(w, cov_matrix):\n",
        "    n = cov_matrix.shape[0]\n",
        "    rp = (w * (cov_matrix @ w)) / cp.quad_form(w, cov_matrix)\n",
        "    return cp.sum_squares(rp - 1 / n).value\n",
        "\n",
        "ef = EfficientFrontier(mu, S)\n",
        "ef.nonconvex_objective(deviation_risk_parity, ef.cov_matrix)\n",
        "weights = ef.clean_weights()\n",
        "weights"
      ],
      "metadata": {
        "colab": {
          "base_uri": "https://localhost:8080/"
        },
        "id": "BkKRPhs1X5_S",
        "outputId": "d5972c45-90fd-48f1-e86d-65ee3b20d2bf"
      },
      "execution_count": null,
      "outputs": [
        {
          "output_type": "execute_result",
          "data": {
            "text/plain": [
              "OrderedDict([('GOOG', 0.05427),\n",
              "             ('AAPL', 0.02932),\n",
              "             ('FB', 0.11303),\n",
              "             ('BABA', 0.16708),\n",
              "             ('AMZN', 0.02588),\n",
              "             ('GE', 0.03384),\n",
              "             ('AMD', 0.02132),\n",
              "             ('WMT', 0.04845),\n",
              "             ('BAC', 0.02347),\n",
              "             ('GM', 0.10209),\n",
              "             ('T', 0.04944),\n",
              "             ('UAA', 0.03767),\n",
              "             ('SHLD', 0.03561),\n",
              "             ('XOM', 0.04809),\n",
              "             ('RRC', 0.03079),\n",
              "             ('BBY', 0.02661),\n",
              "             ('MA', 0.05016),\n",
              "             ('PFE', 0.04492),\n",
              "             ('JPM', 0.02517),\n",
              "             ('SBUX', 0.03279)])"
            ]
          },
          "metadata": {},
          "execution_count": 53
        }
      ]
    },
    {
      "cell_type": "code",
      "source": [
        "\n",
        "# Deviation risk parity with weight bound on the first asset\n",
        "ef = EfficientFrontier(mu, S)\n",
        "ef.nonconvex_objective(deviation_risk_parity, \n",
        "                       ef.cov_matrix, \n",
        "                       constraints=[{\"type\":\"eq\", \"fun\":lambda w: w[0] - 0.1}])\n",
        "weights = ef.clean_weights()\n",
        "weights"
      ],
      "metadata": {
        "colab": {
          "base_uri": "https://localhost:8080/"
        },
        "id": "GPynRix_X0vK",
        "outputId": "58255a45-5b47-4bf0-9b18-16d6202c15bd"
      },
      "execution_count": null,
      "outputs": [
        {
          "output_type": "execute_result",
          "data": {
            "text/plain": [
              "OrderedDict([('GOOG', 0.1),\n",
              "             ('AAPL', 0.02962),\n",
              "             ('FB', 0.10312),\n",
              "             ('BABA', 0.13832),\n",
              "             ('AMZN', 0.02623),\n",
              "             ('GE', 0.03459),\n",
              "             ('AMD', 0.02242),\n",
              "             ('WMT', 0.0489),\n",
              "             ('BAC', 0.02411),\n",
              "             ('GM', 0.09282),\n",
              "             ('T', 0.0489),\n",
              "             ('UAA', 0.03734),\n",
              "             ('SHLD', 0.03608),\n",
              "             ('XOM', 0.04718),\n",
              "             ('RRC', 0.03139),\n",
              "             ('BBY', 0.02772),\n",
              "             ('MA', 0.04683),\n",
              "             ('PFE', 0.04516),\n",
              "             ('JPM', 0.02594),\n",
              "             ('SBUX', 0.03334)])"
            ]
          },
          "metadata": {},
          "execution_count": 54
        }
      ]
    },
    {
      "cell_type": "code",
      "source": [
        "# Market-neutral efficient risk.\n",
        "# Please use ef.efficient_risk() for anything serious.\n",
        "target_risk = 0.19\n",
        "ef = EfficientFrontier(mu, S, weight_bounds=(None, None))\n",
        "\n",
        "# Weights sum to zero\n",
        "weight_constr = {\"type\": \"eq\", \"fun\": lambda w: np.sum(w)}\n",
        "\n",
        "# Portfolio vol less than target vol\n",
        "risk_constr = {\n",
        "    \"type\": \"eq\",\n",
        "    \"fun\": lambda w: target_risk ** 2 - np.dot(w.T, np.dot(ef.cov_matrix, w)),\n",
        "}\n",
        "constraints = [weight_constr, risk_constr]\n",
        "\n",
        "ef.nonconvex_objective(\n",
        "    lambda w, mu: -w.T.dot(mu),  # min negative return i.e max return\n",
        "    objective_args=(ef.expected_returns),\n",
        "    weights_sum_to_one=False,\n",
        "    constraints=constraints,\n",
        ")\n",
        "weights = ef.clean_weights()\n",
        "weights"
      ],
      "metadata": {
        "colab": {
          "base_uri": "https://localhost:8080/"
        },
        "id": "cpvCKUXRXvoz",
        "outputId": "70fbcf4d-b583-4795-b22c-1dcbc27b38a3"
      },
      "execution_count": null,
      "outputs": [
        {
          "output_type": "execute_result",
          "data": {
            "text/plain": [
              "OrderedDict([('GOOG', -0.00364),\n",
              "             ('AAPL', 0.02772),\n",
              "             ('FB', -0.18995),\n",
              "             ('BABA', -0.2356),\n",
              "             ('AMZN', 0.12412),\n",
              "             ('GE', -0.03347),\n",
              "             ('AMD', 0.06139),\n",
              "             ('WMT', -0.09186),\n",
              "             ('BAC', 0.01911),\n",
              "             ('GM', -0.08287),\n",
              "             ('T', -0.13896),\n",
              "             ('UAA', 0.25523),\n",
              "             ('SHLD', 0.10698),\n",
              "             ('XOM', -0.25078),\n",
              "             ('RRC', 0.04518),\n",
              "             ('BBY', 0.03793),\n",
              "             ('MA', 0.31288),\n",
              "             ('PFE', -0.0491),\n",
              "             ('JPM', 0.07778),\n",
              "             ('SBUX', 0.0079)])"
            ]
          },
          "metadata": {},
          "execution_count": 51
        }
      ]
    },
    {
      "cell_type": "code",
      "source": [
        "# Utility objective - you could actually use ef.max_quadratic_utility\n",
        "ef = EfficientFrontier(mu, S)\n",
        "\n",
        "def utility_obj(weights, mu, cov_matrix, k=1):\n",
        "    return -weights.dot(mu) + k * np.dot(weights.T, np.dot(cov_matrix, weights))\n",
        "\n",
        "ef.nonconvex_objective(\n",
        "    utility_obj,\n",
        "    objective_args=(ef.expected_returns, ef.cov_matrix, 1)\n",
        "    # default is for weights to sum to 1\n",
        ")\n",
        "\n",
        "weights = ef.clean_weights()\n",
        "weights\n",
        "     "
      ],
      "metadata": {
        "colab": {
          "base_uri": "https://localhost:8080/"
        },
        "id": "8CZ8lnaFXr6y",
        "outputId": "906daf30-3ea2-467a-f377-4620224f4097"
      },
      "execution_count": null,
      "outputs": [
        {
          "output_type": "execute_result",
          "data": {
            "text/plain": [
              "OrderedDict([('GOOG', 0.0),\n",
              "             ('AAPL', 0.0),\n",
              "             ('FB', 0.0),\n",
              "             ('BABA', 0.0),\n",
              "             ('AMZN', 0.24615),\n",
              "             ('GE', 0.0),\n",
              "             ('AMD', 0.11846),\n",
              "             ('WMT', 0.0),\n",
              "             ('BAC', 0.0),\n",
              "             ('GM', 0.0),\n",
              "             ('T', 0.0),\n",
              "             ('UAA', 0.41766),\n",
              "             ('SHLD', 0.1358),\n",
              "             ('XOM', 0.0),\n",
              "             ('RRC', 0.0),\n",
              "             ('BBY', 0.01505),\n",
              "             ('MA', 0.06689),\n",
              "             ('PFE', 0.0),\n",
              "             ('JPM', 0.0),\n",
              "             ('SBUX', 0.0)])"
            ]
          },
          "metadata": {},
          "execution_count": 50
        }
      ]
    },
    {
      "cell_type": "code",
      "source": [
        "\n",
        "# Kelly objective with weight bounds on zeroth asset\n",
        "def kelly_objective(w, e_returns, cov_matrix, k=3):\n",
        "    variance = np.dot(w.T, np.dot(cov_matrix, w))\n",
        "    objective = variance * 0.5 * k - np.dot(w, e_returns)\n",
        "    return objective\n",
        "\n",
        "lower_bounds, upper_bounds = 0.01, 0.3\n",
        "ef = EfficientFrontier(mu, S)\n",
        "ef.nonconvex_objective(\n",
        "    kelly_objective,\n",
        "    objective_args=(ef.expected_returns, ef.cov_matrix, 1000),\n",
        "    constraints=[\n",
        "        {\"type\": \"eq\", \"fun\": lambda w: np.sum(w) - 1},\n",
        "        {\"type\": \"ineq\", \"fun\": lambda w: w[0] - lower_bounds},\n",
        "        {\"type\": \"ineq\", \"fun\": lambda w: upper_bounds - w[0]},\n",
        "    ],\n",
        ")\n",
        "\n",
        "weights = ef.clean_weights()\n",
        "weights"
      ],
      "metadata": {
        "colab": {
          "base_uri": "https://localhost:8080/"
        },
        "id": "1iXroaiHXlQb",
        "outputId": "2c87d920-1b83-4933-e5a6-87f76f45ed03"
      },
      "execution_count": null,
      "outputs": [
        {
          "output_type": "execute_result",
          "data": {
            "text/plain": [
              "OrderedDict([('GOOG', 0.05),\n",
              "             ('AAPL', 0.05),\n",
              "             ('FB', 0.05),\n",
              "             ('BABA', 0.05),\n",
              "             ('AMZN', 0.05),\n",
              "             ('GE', 0.05),\n",
              "             ('AMD', 0.05),\n",
              "             ('WMT', 0.05),\n",
              "             ('BAC', 0.05),\n",
              "             ('GM', 0.05),\n",
              "             ('T', 0.05),\n",
              "             ('UAA', 0.05),\n",
              "             ('SHLD', 0.05),\n",
              "             ('XOM', 0.05),\n",
              "             ('RRC', 0.05),\n",
              "             ('BBY', 0.05),\n",
              "             ('MA', 0.05),\n",
              "             ('PFE', 0.05),\n",
              "             ('JPM', 0.05),\n",
              "             ('SBUX', 0.05)])"
            ]
          },
          "metadata": {},
          "execution_count": 49
        }
      ]
    },
    {
      "cell_type": "markdown",
      "source": [
        "# Hierachical parity risk"
      ],
      "metadata": {
        "id": "8sTJcEn2YuSS"
      }
    },
    {
      "cell_type": "code",
      "source": [
        "rets = expected_returns.returns_from_prices(df)\n",
        "rets.tail()"
      ],
      "metadata": {
        "colab": {
          "base_uri": "https://localhost:8080/",
          "height": 238
        },
        "id": "wBD_z0UZYxF5",
        "outputId": "6b876a76-420a-43f5-88f5-9aeddf66a398"
      },
      "execution_count": null,
      "outputs": [
        {
          "output_type": "execute_result",
          "data": {
            "text/plain": [
              "                GOOG      AAPL        FB      BABA      AMZN        GE  \\\n",
              "date                                                                     \n",
              "2018-04-05  0.002605  0.006934  0.027337  0.002906  0.029194  0.011295   \n",
              "2018-04-06 -0.020208 -0.025579 -0.013430 -0.029264 -0.032044 -0.027550   \n",
              "2018-04-09  0.008351  0.009918  0.004644  0.014028  0.000605 -0.017611   \n",
              "2018-04-10  0.015944  0.018818  0.045020  0.042562  0.021435  0.017147   \n",
              "2018-04-11 -0.011312 -0.004675  0.007756 -0.009825 -0.006385 -0.006130   \n",
              "\n",
              "                 AMD       WMT       BAC        GM         T       UAA  \\\n",
              "date                                                                     \n",
              "2018-04-05  0.025589  0.006764  0.014726 -0.000789  0.007246 -0.023477   \n",
              "2018-04-06 -0.040918 -0.012755 -0.022757 -0.008421 -0.014112 -0.028048   \n",
              "2018-04-09 -0.008325 -0.004730  0.008100  0.003981  0.001139 -0.020024   \n",
              "2018-04-10  0.047219  0.001970  0.020422  0.032778  0.018197  0.010817   \n",
              "2018-04-11 -0.016032 -0.006246 -0.019029 -0.001792 -0.015638 -0.004756   \n",
              "\n",
              "                SHLD       XOM       RRC       BBY        MA       PFE  \\\n",
              "date                                                                     \n",
              "2018-04-05  0.027682  0.015360  0.053701 -0.010156  0.012148 -0.011071   \n",
              "2018-04-06 -0.030303 -0.015128 -0.037879 -0.022601 -0.033324 -0.015673   \n",
              "2018-04-09 -0.020833  0.000000 -0.002863 -0.009505  0.003771  0.008246   \n",
              "2018-04-10  0.088652  0.029384  0.061019  0.027213  0.025713  0.013818   \n",
              "2018-04-11  0.074919  0.004671  0.014208 -0.011294 -0.013507 -0.004451   \n",
              "\n",
              "                 JPM      SBUX  \n",
              "date                            \n",
              "2018-04-05  0.013130  0.005269  \n",
              "2018-04-06 -0.024937 -0.013527  \n",
              "2018-04-09  0.012008  0.006171  \n",
              "2018-04-10  0.019112  0.012095  \n",
              "2018-04-11 -0.016798  0.000168  "
            ],
            "text/html": [
              "\n",
              "  <div id=\"df-a0235d53-98ef-41ac-9192-640e6c0b7c80\">\n",
              "    <div class=\"colab-df-container\">\n",
              "      <div>\n",
              "<style scoped>\n",
              "    .dataframe tbody tr th:only-of-type {\n",
              "        vertical-align: middle;\n",
              "    }\n",
              "\n",
              "    .dataframe tbody tr th {\n",
              "        vertical-align: top;\n",
              "    }\n",
              "\n",
              "    .dataframe thead th {\n",
              "        text-align: right;\n",
              "    }\n",
              "</style>\n",
              "<table border=\"1\" class=\"dataframe\">\n",
              "  <thead>\n",
              "    <tr style=\"text-align: right;\">\n",
              "      <th></th>\n",
              "      <th>GOOG</th>\n",
              "      <th>AAPL</th>\n",
              "      <th>FB</th>\n",
              "      <th>BABA</th>\n",
              "      <th>AMZN</th>\n",
              "      <th>GE</th>\n",
              "      <th>AMD</th>\n",
              "      <th>WMT</th>\n",
              "      <th>BAC</th>\n",
              "      <th>GM</th>\n",
              "      <th>T</th>\n",
              "      <th>UAA</th>\n",
              "      <th>SHLD</th>\n",
              "      <th>XOM</th>\n",
              "      <th>RRC</th>\n",
              "      <th>BBY</th>\n",
              "      <th>MA</th>\n",
              "      <th>PFE</th>\n",
              "      <th>JPM</th>\n",
              "      <th>SBUX</th>\n",
              "    </tr>\n",
              "    <tr>\n",
              "      <th>date</th>\n",
              "      <th></th>\n",
              "      <th></th>\n",
              "      <th></th>\n",
              "      <th></th>\n",
              "      <th></th>\n",
              "      <th></th>\n",
              "      <th></th>\n",
              "      <th></th>\n",
              "      <th></th>\n",
              "      <th></th>\n",
              "      <th></th>\n",
              "      <th></th>\n",
              "      <th></th>\n",
              "      <th></th>\n",
              "      <th></th>\n",
              "      <th></th>\n",
              "      <th></th>\n",
              "      <th></th>\n",
              "      <th></th>\n",
              "      <th></th>\n",
              "    </tr>\n",
              "  </thead>\n",
              "  <tbody>\n",
              "    <tr>\n",
              "      <th>2018-04-05</th>\n",
              "      <td>0.002605</td>\n",
              "      <td>0.006934</td>\n",
              "      <td>0.027337</td>\n",
              "      <td>0.002906</td>\n",
              "      <td>0.029194</td>\n",
              "      <td>0.011295</td>\n",
              "      <td>0.025589</td>\n",
              "      <td>0.006764</td>\n",
              "      <td>0.014726</td>\n",
              "      <td>-0.000789</td>\n",
              "      <td>0.007246</td>\n",
              "      <td>-0.023477</td>\n",
              "      <td>0.027682</td>\n",
              "      <td>0.015360</td>\n",
              "      <td>0.053701</td>\n",
              "      <td>-0.010156</td>\n",
              "      <td>0.012148</td>\n",
              "      <td>-0.011071</td>\n",
              "      <td>0.013130</td>\n",
              "      <td>0.005269</td>\n",
              "    </tr>\n",
              "    <tr>\n",
              "      <th>2018-04-06</th>\n",
              "      <td>-0.020208</td>\n",
              "      <td>-0.025579</td>\n",
              "      <td>-0.013430</td>\n",
              "      <td>-0.029264</td>\n",
              "      <td>-0.032044</td>\n",
              "      <td>-0.027550</td>\n",
              "      <td>-0.040918</td>\n",
              "      <td>-0.012755</td>\n",
              "      <td>-0.022757</td>\n",
              "      <td>-0.008421</td>\n",
              "      <td>-0.014112</td>\n",
              "      <td>-0.028048</td>\n",
              "      <td>-0.030303</td>\n",
              "      <td>-0.015128</td>\n",
              "      <td>-0.037879</td>\n",
              "      <td>-0.022601</td>\n",
              "      <td>-0.033324</td>\n",
              "      <td>-0.015673</td>\n",
              "      <td>-0.024937</td>\n",
              "      <td>-0.013527</td>\n",
              "    </tr>\n",
              "    <tr>\n",
              "      <th>2018-04-09</th>\n",
              "      <td>0.008351</td>\n",
              "      <td>0.009918</td>\n",
              "      <td>0.004644</td>\n",
              "      <td>0.014028</td>\n",
              "      <td>0.000605</td>\n",
              "      <td>-0.017611</td>\n",
              "      <td>-0.008325</td>\n",
              "      <td>-0.004730</td>\n",
              "      <td>0.008100</td>\n",
              "      <td>0.003981</td>\n",
              "      <td>0.001139</td>\n",
              "      <td>-0.020024</td>\n",
              "      <td>-0.020833</td>\n",
              "      <td>0.000000</td>\n",
              "      <td>-0.002863</td>\n",
              "      <td>-0.009505</td>\n",
              "      <td>0.003771</td>\n",
              "      <td>0.008246</td>\n",
              "      <td>0.012008</td>\n",
              "      <td>0.006171</td>\n",
              "    </tr>\n",
              "    <tr>\n",
              "      <th>2018-04-10</th>\n",
              "      <td>0.015944</td>\n",
              "      <td>0.018818</td>\n",
              "      <td>0.045020</td>\n",
              "      <td>0.042562</td>\n",
              "      <td>0.021435</td>\n",
              "      <td>0.017147</td>\n",
              "      <td>0.047219</td>\n",
              "      <td>0.001970</td>\n",
              "      <td>0.020422</td>\n",
              "      <td>0.032778</td>\n",
              "      <td>0.018197</td>\n",
              "      <td>0.010817</td>\n",
              "      <td>0.088652</td>\n",
              "      <td>0.029384</td>\n",
              "      <td>0.061019</td>\n",
              "      <td>0.027213</td>\n",
              "      <td>0.025713</td>\n",
              "      <td>0.013818</td>\n",
              "      <td>0.019112</td>\n",
              "      <td>0.012095</td>\n",
              "    </tr>\n",
              "    <tr>\n",
              "      <th>2018-04-11</th>\n",
              "      <td>-0.011312</td>\n",
              "      <td>-0.004675</td>\n",
              "      <td>0.007756</td>\n",
              "      <td>-0.009825</td>\n",
              "      <td>-0.006385</td>\n",
              "      <td>-0.006130</td>\n",
              "      <td>-0.016032</td>\n",
              "      <td>-0.006246</td>\n",
              "      <td>-0.019029</td>\n",
              "      <td>-0.001792</td>\n",
              "      <td>-0.015638</td>\n",
              "      <td>-0.004756</td>\n",
              "      <td>0.074919</td>\n",
              "      <td>0.004671</td>\n",
              "      <td>0.014208</td>\n",
              "      <td>-0.011294</td>\n",
              "      <td>-0.013507</td>\n",
              "      <td>-0.004451</td>\n",
              "      <td>-0.016798</td>\n",
              "      <td>0.000168</td>\n",
              "    </tr>\n",
              "  </tbody>\n",
              "</table>\n",
              "</div>\n",
              "      <button class=\"colab-df-convert\" onclick=\"convertToInteractive('df-a0235d53-98ef-41ac-9192-640e6c0b7c80')\"\n",
              "              title=\"Convert this dataframe to an interactive table.\"\n",
              "              style=\"display:none;\">\n",
              "        \n",
              "  <svg xmlns=\"http://www.w3.org/2000/svg\" height=\"24px\"viewBox=\"0 0 24 24\"\n",
              "       width=\"24px\">\n",
              "    <path d=\"M0 0h24v24H0V0z\" fill=\"none\"/>\n",
              "    <path d=\"M18.56 5.44l.94 2.06.94-2.06 2.06-.94-2.06-.94-.94-2.06-.94 2.06-2.06.94zm-11 1L8.5 8.5l.94-2.06 2.06-.94-2.06-.94L8.5 2.5l-.94 2.06-2.06.94zm10 10l.94 2.06.94-2.06 2.06-.94-2.06-.94-.94-2.06-.94 2.06-2.06.94z\"/><path d=\"M17.41 7.96l-1.37-1.37c-.4-.4-.92-.59-1.43-.59-.52 0-1.04.2-1.43.59L10.3 9.45l-7.72 7.72c-.78.78-.78 2.05 0 2.83L4 21.41c.39.39.9.59 1.41.59.51 0 1.02-.2 1.41-.59l7.78-7.78 2.81-2.81c.8-.78.8-2.07 0-2.86zM5.41 20L4 18.59l7.72-7.72 1.47 1.35L5.41 20z\"/>\n",
              "  </svg>\n",
              "      </button>\n",
              "      \n",
              "  <style>\n",
              "    .colab-df-container {\n",
              "      display:flex;\n",
              "      flex-wrap:wrap;\n",
              "      gap: 12px;\n",
              "    }\n",
              "\n",
              "    .colab-df-convert {\n",
              "      background-color: #E8F0FE;\n",
              "      border: none;\n",
              "      border-radius: 50%;\n",
              "      cursor: pointer;\n",
              "      display: none;\n",
              "      fill: #1967D2;\n",
              "      height: 32px;\n",
              "      padding: 0 0 0 0;\n",
              "      width: 32px;\n",
              "    }\n",
              "\n",
              "    .colab-df-convert:hover {\n",
              "      background-color: #E2EBFA;\n",
              "      box-shadow: 0px 1px 2px rgba(60, 64, 67, 0.3), 0px 1px 3px 1px rgba(60, 64, 67, 0.15);\n",
              "      fill: #174EA6;\n",
              "    }\n",
              "\n",
              "    [theme=dark] .colab-df-convert {\n",
              "      background-color: #3B4455;\n",
              "      fill: #D2E3FC;\n",
              "    }\n",
              "\n",
              "    [theme=dark] .colab-df-convert:hover {\n",
              "      background-color: #434B5C;\n",
              "      box-shadow: 0px 1px 3px 1px rgba(0, 0, 0, 0.15);\n",
              "      filter: drop-shadow(0px 1px 2px rgba(0, 0, 0, 0.3));\n",
              "      fill: #FFFFFF;\n",
              "    }\n",
              "  </style>\n",
              "\n",
              "      <script>\n",
              "        const buttonEl =\n",
              "          document.querySelector('#df-a0235d53-98ef-41ac-9192-640e6c0b7c80 button.colab-df-convert');\n",
              "        buttonEl.style.display =\n",
              "          google.colab.kernel.accessAllowed ? 'block' : 'none';\n",
              "\n",
              "        async function convertToInteractive(key) {\n",
              "          const element = document.querySelector('#df-a0235d53-98ef-41ac-9192-640e6c0b7c80');\n",
              "          const dataTable =\n",
              "            await google.colab.kernel.invokeFunction('convertToInteractive',\n",
              "                                                     [key], {});\n",
              "          if (!dataTable) return;\n",
              "\n",
              "          const docLinkHtml = 'Like what you see? Visit the ' +\n",
              "            '<a target=\"_blank\" href=https://colab.research.google.com/notebooks/data_table.ipynb>data table notebook</a>'\n",
              "            + ' to learn more about interactive tables.';\n",
              "          element.innerHTML = '';\n",
              "          dataTable['output_type'] = 'display_data';\n",
              "          await google.colab.output.renderOutput(dataTable, element);\n",
              "          const docLink = document.createElement('div');\n",
              "          docLink.innerHTML = docLinkHtml;\n",
              "          element.appendChild(docLink);\n",
              "        }\n",
              "      </script>\n",
              "    </div>\n",
              "  </div>\n",
              "  "
            ]
          },
          "metadata": {},
          "execution_count": 58
        }
      ]
    },
    {
      "cell_type": "code",
      "source": [
        "from pypfopt import HRPOpt\n",
        "\n",
        "hrp = HRPOpt(rets)\n",
        "hrp.optimize()\n",
        "weights = hrp.clean_weights()\n",
        "weights"
      ],
      "metadata": {
        "colab": {
          "base_uri": "https://localhost:8080/"
        },
        "id": "P3Ewd05YY2ax",
        "outputId": "0a66f0f1-4a31-42d4-96ff-2b3fec9fb434"
      },
      "execution_count": null,
      "outputs": [
        {
          "output_type": "execute_result",
          "data": {
            "text/plain": [
              "OrderedDict([('GOOG', 0.04956),\n",
              "             ('AAPL', 0.02226),\n",
              "             ('FB', 0.06273),\n",
              "             ('BABA', 0.07963),\n",
              "             ('AMZN', 0.01609),\n",
              "             ('GE', 0.05519),\n",
              "             ('AMD', 0.02229),\n",
              "             ('WMT', 0.1057),\n",
              "             ('BAC', 0.01441),\n",
              "             ('GM', 0.05558),\n",
              "             ('T', 0.11139),\n",
              "             ('UAA', 0.02712),\n",
              "             ('SHLD', 0.02711),\n",
              "             ('XOM', 0.11175),\n",
              "             ('RRC', 0.03162),\n",
              "             ('BBY', 0.03406),\n",
              "             ('MA', 0.03813),\n",
              "             ('PFE', 0.07787),\n",
              "             ('JPM', 0.01768),\n",
              "             ('SBUX', 0.03984)])"
            ]
          },
          "metadata": {},
          "execution_count": 59
        }
      ]
    },
    {
      "cell_type": "code",
      "source": [
        "pd.Series(weights).plot.pie(figsize=(10, 10));"
      ],
      "metadata": {
        "colab": {
          "base_uri": "https://localhost:8080/",
          "height": 575
        },
        "id": "E8KBNZ4yY6X5",
        "outputId": "9a44e7d2-e40e-4db8-d1ab-7200acd53461"
      },
      "execution_count": null,
      "outputs": [
        {
          "output_type": "display_data",
          "data": {
            "text/plain": [
              "<Figure size 720x720 with 1 Axes>"
            ],
            "image/png": "[encoded data removed]"
          },
          "metadata": {}
        }
      ]
    },
    {
      "cell_type": "code",
      "source": [
        "hrp.portfolio_performance(verbose=True);"
      ],
      "metadata": {
        "colab": {
          "base_uri": "https://localhost:8080/"
        },
        "id": "KbpKRytKY9HJ",
        "outputId": "7a974456-664d-48a0-e35a-87b5c39990fd"
      },
      "execution_count": null,
      "outputs": [
        {
          "output_type": "stream",
          "name": "stdout",
          "text": [
            "Expected annual return: 21.4%\n",
            "Annual volatility: 17.8%\n",
            "Sharpe Ratio: 1.08\n"
          ]
        }
      ]
    },
    {
      "cell_type": "markdown",
      "source": [
        "# Plotting for HRP"
      ],
      "metadata": {
        "id": "Kb8UwhufZAwB"
      }
    },
    {
      "cell_type": "code",
      "source": [
        "from pypfopt import plotting\n",
        "\n",
        "plotting.plot_dendrogram(hrp)"
      ],
      "metadata": {
        "colab": {
          "base_uri": "https://localhost:8080/",
          "height": 314
        },
        "id": "WPQtY3WJZC9J",
        "outputId": "916b7601-9a2a-468e-8a78-bc59097bf04d"
      },
      "execution_count": null,
      "outputs": [
        {
          "output_type": "execute_result",
          "data": {
            "text/plain": [
              "<Axes: >"
            ]
          },
          "metadata": {},
          "execution_count": 64
        },
        {
          "output_type": "display_data",
          "data": {
            "text/plain": [
              "<Figure size 432x288 with 1 Axes>"
            ],
            "image/png": "[encoded data removed]"
          },
          "metadata": {
            "needs_background": "light"
          }
        }
      ]
    }
  ]
}